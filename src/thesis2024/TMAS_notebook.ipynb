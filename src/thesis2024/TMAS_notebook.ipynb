{
 "cells": [
  {
   "cell_type": "code",
   "execution_count": 1,
   "metadata": {},
   "outputs": [],
   "source": [
    "from thesis2024.utils import init_llm_langsmith\n",
    "from thesis2024.TMAS import TMAS"
   ]
  },
  {
   "cell_type": "markdown",
   "metadata": {},
   "source": [
    "# Results for RQ2 v1"
   ]
  },
  {
   "cell_type": "code",
   "execution_count": null,
   "metadata": {},
   "outputs": [],
   "source": [
    "student_name = \"August\"\n",
    "student_course = \"IntroToMachineLearning\"\n",
    "\n",
    "subjects = [\"DecisionTrees\",\n",
    "            \"Linear Regression\",\n",
    "            \"K-nearest neighbour classification\",\n",
    "            \"Cross-validation\"]\n",
    "\n",
    "learning_preferences = [\"I prefer formulas and math in order to understand technical concepts\",\n",
    "                        \"I prefer code examples in order to understand technical concepts\",\n",
    "                        \"I prefer text-based explanations and metaphors in order to understand technical concepts\"]\n",
    "\n",
    "count = 0\n",
    "for student_subject in subjects:\n",
    "        for student_learning_preferences in learning_preferences:\n",
    "                ls_name = \"TMAS_Evaluation_1_Conv_\" + str(count)\n",
    "                count += 1\n",
    "                llm_model = init_llm_langsmith(llm_key=3, temp=0.5, langsmith_name=ls_name)\n",
    "                # llm_model = init_llm_langsmith(llm_key=4, temp=0.5, langsmith_name=\"BASELINE_CHAIN\")\n",
    "                tas = TMAS(llm_model=llm_model,\n",
    "                        baseline_bool=False,\n",
    "                        course=student_course,\n",
    "                        subject=student_subject,\n",
    "                        learning_prefs=student_learning_preferences,\n",
    "                        student_name=student_name,\n",
    "                        student_id=None#\"AugustSemrau1\"\n",
    "                        )\n",
    "\n",
    "                student_query = f\"Hello, I am {student_name}!\\nI am studying the course {student_course} and am trying to learn about the subject {student_subject}.\\nMy learning preferences are described as the following: {student_learning_preferences}.\\nPlease explain me this subject.\"\n",
    "\n",
    "                res = tas.predict(query=student_query)\n",
    "                res = tas.predict(query=\"I'm not sure I understand the subject from this explanation. Can you explain it in a different way?\")\n",
    "                res = tas.predict(query=\"Thank you for the help, have a nice day!\")"
   ]
  },
  {
   "cell_type": "code",
   "execution_count": null,
   "metadata": {},
   "outputs": [],
   "source": []
  },
  {
   "cell_type": "code",
   "execution_count": null,
   "metadata": {},
   "outputs": [],
   "source": []
  },
  {
   "cell_type": "code",
   "execution_count": null,
   "metadata": {},
   "outputs": [],
   "source": []
  }
 ],
 "metadata": {
  "kernelspec": {
   "display_name": "src",
   "language": "python",
   "name": "python3"
  },
  "language_info": {
   "codemirror_mode": {
    "name": "ipython",
    "version": 3
   },
   "file_extension": ".py",
   "mimetype": "text/x-python",
   "name": "python",
   "nbconvert_exporter": "python",
   "pygments_lexer": "ipython3",
   "version": "3.10.11"
  }
 },
 "nbformat": 4,
 "nbformat_minor": 2
}
