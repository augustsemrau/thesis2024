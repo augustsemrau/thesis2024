{
 "cells": [
  {
   "cell_type": "markdown",
   "metadata": {},
   "source": [
    "# Notebook for Debugging and Running the PMAS Module"
   ]
  },
  {
   "cell_type": "markdown",
   "metadata": {},
   "source": [
    "## Running the PMAS Module"
   ]
  },
  {
   "cell_type": "code",
   "execution_count": null,
   "metadata": {},
   "outputs": [],
   "source": []
  },
  {
   "cell_type": "markdown",
   "metadata": {},
   "source": [
    "## Debugging the PMAS Module"
   ]
  },
  {
   "cell_type": "code",
   "execution_count": 1,
   "metadata": {},
   "outputs": [
    {
     "data": {
      "text/plain": [
       "<langmem.client.Client at 0x10a388880>"
      ]
     },
     "execution_count": 1,
     "metadata": {},
     "output_type": "execute_result"
    }
   ],
   "source": [
    "from thesis2024.utils import init_llm_langsmith\n",
    "from thesis2024.PMAS import LongTermMemory\n",
    "langsmith_name = \"LangMem TEST 1 \"\n",
    "llm_model = init_llm_langsmith(llm_key=3, temp=0.5, langsmith_name=langsmith_name)\n",
    "\n",
    "# from thesis2024.memory import LongTermMemory\n",
    "ltm_class = LongTermMemory(user_name=\"AugustSemrau2\")\n",
    "ltm_class.client"
   ]
  },
  {
   "cell_type": "code",
   "execution_count": 13,
   "metadata": {},
   "outputs": [
    {
     "data": {
      "text/plain": [
       "['61b4a7d2-7585-453c-9679-9f6d7ac6be7a',\n",
       " 'b0f31285-a7fe-44f1-af0d-d4e6def0353c',\n",
       " '695877b0-798c-4fa1-905a-4075d4c90236',\n",
       " 'a8c0d86a-4ac4-466d-a2f8-b3f7663775cf',\n",
       " '5727f660-e7d2-46ad-8da0-a595279cb458',\n",
       " '139f9df0-4459-4f19-90ef-637305a8a9f3',\n",
       " 'd9206843-2549-4d7e-9004-a07117f68aad',\n",
       " 'e125e287-3e04-414c-b7ae-624c488ad7d5']"
      ]
     },
     "execution_count": 13,
     "metadata": {},
     "output_type": "execute_result"
    }
   ],
   "source": [
    "ltm_class.past_thread_ids"
   ]
  },
  {
   "cell_type": "code",
   "execution_count": 3,
   "metadata": {},
   "outputs": [
    {
     "data": {
      "text/plain": [
       "{'id': 'b51d2659-0035-44de-bd15-048b70ce4b14', 'name': 'AugustSemrau2-b51d'}"
      ]
     },
     "execution_count": 3,
     "metadata": {},
     "output_type": "execute_result"
    }
   ],
   "source": [
    "ltm_class.get_user_data()"
   ]
  },
  {
   "cell_type": "code",
   "execution_count": 9,
   "metadata": {},
   "outputs": [],
   "source": [
    "ltm_class.save_conversation_step(user_query=\"Hello I am August and I study computer science at the Technical University of Denmark. I come from Jutland in Denmark. I do not understand math, and NEED to be explained technical concepts in words, not formulas.\", llm_response=\"Hello August, how can I assist you today?\")"
   ]
  },
  {
   "cell_type": "code",
   "execution_count": 10,
   "metadata": {},
   "outputs": [],
   "source": [
    "ltm_class.save_conversation_step(user_query=\"I am studying the course IntroToMachineLearning and am trying to learn about the subject Cross-validation.\\nI am having a hard time understanding the course material revolving around this subject. Can you help me understand it better by rewriting it to my learning preferences, which are the following:\\nI prefer text-based explanations and metaphors in order to understand technical concepts?\", \n",
    "                                 llm_response=\"Certainly, August! Let's dive into the concept of cross-validation using a metaphor that might help clarify things.\\n\\nImagine you're a chef trying to perfect a new recipe. Before you serve it at a big dinner party, you want to make sure it tastes just right and appeals to a variety of palates. To do this, you could cook the dish several times, each time using a different group of friends as taste-testers. Each group provides feedback, and you tweak the recipe accordingly. This way, you ensure the final version will be well-received by a diverse crowd.\\n\\nIn machine learning, cross-validation works in a similar way. When you build a model, you want it to perform well not just on the data you used to create it, but on new, unseen data as well. Cross-validation helps you ensure this by dividing your data into several smaller sets or \\\"folds\\\". Here's how it typically works:\\n\\n1. **Splitting the Data**: Just like dividing your friends into different tasting groups, you split your dataset into, say, 5 parts (or any other number, commonly referred to as \\\"k\\\"). Each part is called a fold.\\n\\n2. **Training and Validating**: You then train your model on 4 of these folds, using them as your training data (like cooking for four groups of friends). The remaining fold serves as your validation data, which is like the fifth group of friends you haven't cooked for yet. This group is used to evaluate how well your model performs.\\n\\n3. **Repeating the Process**: Just as you would rotate the role of taste-tester among your groups of friends, you rotate the validation fold in cross-validation. Each of the 5 folds gets a turn to be the validation set, with the model being trained on the other 4 folds each time.\\n\\n4. **Averaging the Results**: In the end, you average the performance metrics (like accuracy) from each of the 5 trials. This gives you a good idea of how well your model is likely to perform on unseen data.\\n\\nThis process helps prevent a common problem in machine learning called \\\"overfitting,\\\" where a model performs well on its training data but poorly on new, unseen data. It's like making sure your dish doesn’t just appeal to one group of friends but to all kinds of guests.\\n\\nI hope this metaphor helps you understand the concept of cross-validation better! If you have any more questions or need further details, feel free to ask.\")"
   ]
  },
  {
   "cell_type": "code",
   "execution_count": 11,
   "metadata": {},
   "outputs": [],
   "source": [
    "ltm_class.save_conversation_step(user_query=\"I think that makes it pretty clear for me! Thank you for the explanation.\",\n",
    "                                 llm_response=\"That's great to hear, August! I'm glad the metaphor helped clarify things for you. If you have any more questions or need further assistance with cross-validation or any other topic, don't hesitate to reach out. I'm here to help!\")"
   ]
  },
  {
   "cell_type": "code",
   "execution_count": null,
   "metadata": {},
   "outputs": [],
   "source": [
    "ltm_class.save_conversation_step(user_query=\"What is the height of Mount Everest?.\", llm_response=\"I will figure out.\")"
   ]
  },
  {
   "cell_type": "code",
   "execution_count": 4,
   "metadata": {},
   "outputs": [
    {
     "name": "stdout",
     "output_type": "stream",
     "text": [
      "{'user_id': 'b51d2659-0035-44de-bd15-048b70ce4b14', 'memories': [{'id': '0a840bf0-fff0-4626-b3c4-73acba3c4527', 'created_at': '2024-05-13T12:22:12.388061Z', 'last_accessed': '2024-05-13T12:22:12.388061Z', 'text': 'August studies computer science', 'content': {'subject': 'August', 'predicate': 'studies', 'object': 'computer science'}, 'scores': {'recency': 0.5, 'importance': 0.7777777777777778, 'relevance': 0.9746900186145946}}, {'id': '8325f792-3eef-4beb-a3a1-3230e82c025e', 'created_at': '2024-05-13T12:22:12.388061Z', 'last_accessed': '2024-05-13T12:22:12.388061Z', 'text': 'August studies at Technical University of Denmark', 'content': {'subject': 'August', 'predicate': 'studies at', 'object': 'Technical University of Denmark'}, 'scores': {'recency': 0.5, 'importance': 0.6666666666666666, 'relevance': 1.0}}, {'id': 'ba71c56e-2095-4c96-b735-ff6312ab586d', 'created_at': '2024-05-13T12:22:12.388061Z', 'last_accessed': '2024-05-13T12:22:12.388061Z', 'text': 'August struggles with math', 'content': {'subject': 'August', 'predicate': 'struggles with', 'object': 'math'}, 'scores': {'recency': 0.5, 'importance': 0.8888888888888888, 'relevance': 0.4400601887193971}}, {'id': '3d3fef17-7fdb-4a2f-a91f-5a1166f1f87a', 'created_at': '2024-05-13T12:22:12.388061Z', 'last_accessed': '2024-05-13T12:22:12.388061Z', 'text': 'August needs explanations in words, not formulas', 'content': {'subject': 'August', 'predicate': 'needs explanations in', 'object': 'words, not formulas'}, 'scores': {'recency': 0.5, 'importance': 1.0, 'relevance': 0.11861919168930114}}, {'id': '87142830-41f5-410f-b573-716d8f531873', 'created_at': '2024-05-13T12:22:12.388061Z', 'last_accessed': '2024-05-13T12:22:12.388061Z', 'text': 'August comes from Jutland, Denmark', 'content': {'subject': 'August', 'predicate': 'comes from', 'object': 'Jutland, Denmark'}, 'scores': {'recency': 0.5, 'importance': 0.4444444444444444, 'relevance': 0.07982130609354139}}, {'id': '65e43606-3626-4843-8b7c-9e5fb0832da9', 'created_at': '2024-05-13T12:26:25.594636Z', 'last_accessed': '2024-05-13T12:26:25.594636Z', 'text': 'AugustSemrau2-b51d asked about the height of Mount Everest', 'content': {'subject': 'b51d2659-0035-44de-bd15-048b70ce4b14', 'predicate': 'asked about', 'object': 'the height of Mount Everest'}, 'scores': {'recency': 0.5, 'importance': 0.0, 'relevance': 0.0}}], 'state': None, 'thread_summaries': None}\n",
      "These are the memories:\n",
      " August studies at Technical University of Denmark.\n",
      "August studies computer science.\n",
      "August struggles with math.\n",
      "August needs explanations in words, not formulas.\n",
      "August comes from Jutland, Denmark.\n",
      "AugustSemrau2-b51d asked about the height of Mount Everest\n"
     ]
    }
   ],
   "source": [
    "memories = ltm_class.get_user_semantic_memories(query=\"What university does the user attend?\")\n",
    "memories\n",
    "print(\"These are the memories:\\n\",memories)"
   ]
  },
  {
   "cell_type": "code",
   "execution_count": 7,
   "metadata": {},
   "outputs": [
    {
     "name": "stdout",
     "output_type": "stream",
     "text": [
      "{'user_id': 'b51d2659-0035-44de-bd15-048b70ce4b14', 'memories': [], 'state': None, 'thread_summaries': None}\n",
      "These are the memories:\n",
      " \n"
     ]
    }
   ],
   "source": [
    "memories = ltm_class.get_user_append_memories(query=\"\")\n",
    "memories\n",
    "print(\"These are the memories:\\n\",memories)"
   ]
  },
  {
   "cell_type": "code",
   "execution_count": 5,
   "metadata": {},
   "outputs": [
    {
     "name": "stdout",
     "output_type": "stream",
     "text": [
      "{'id': 'f9a97c15-b2c8-43f7-9c61-1db658173f1d', 'type': 'user_semantic_memory', 'custom_instructions': None, 'schema': {'name': 'SemanticUserMemory', 'description': 'Remember key information about the user based on the conversation.', 'parameters': {'title': 'extractTriplet', 'description': 'Extract RDF triples from the conversation.', 'type': 'object', 'properties': {'triples': {'title': 'Triples', 'description': 'The facts to extract as memories for future conversations. Be as detailed as possible, while focusing on the user information. Use names over IDs where possible.', 'type': 'array', 'items': {'$ref': '#/definitions/Triple'}}}, 'required': ['triples'], 'definitions': {'Triple': {'title': 'Triple', 'description': 'RDF triple to extract.', 'type': 'object', 'properties': {'subject': {'title': 'Subject', 'type': 'string'}, 'predicate': {'title': 'Predicate', 'type': 'string'}, 'object': {'title': 'Object', 'type': 'string'}, 'importance': {'title': 'Importance', 'description': \"Absolute importance of this memory or fact about the user,  with 1 being mundane information and 10 being poignant, identity-shaping memories about the user that you mustn't forget.\", 'minimum': 1, 'maximum': 10, 'type': 'integer'}}, 'required': ['subject', 'predicate', 'object', 'importance']}}}}, 'status': 'active', 'target_type': 'user'}\n",
      "{'id': '8c50b289-f531-4d58-8e10-a55f7e3a2322', 'type': 'user_append_state', 'custom_instructions': None, 'schema': {'name': 'CoreBelief', 'description': 'A core belief of the user.', 'parameters': {'properties': {'belief': {'default': '', 'description': 'The belief the user has about the world, themselves, or anything else.', 'title': 'Belief', 'type': 'string'}, 'why': {'default': '', 'description': 'Why the user believes this.', 'title': 'Why', 'type': 'string'}, 'context': {'default': '', 'description': 'The raw context from the conversation that leads you to conclude that the user believes this.', 'title': 'Context', 'type': 'string'}}, 'type': 'object'}}, 'status': 'active', 'target_type': 'user'}\n",
      "{'id': '7109cad1-48df-40b9-a33e-03aee766471e', 'type': 'user_append_state', 'custom_instructions': None, 'schema': {'name': 'FormativeEvent', 'description': 'Formative events for the user.', 'parameters': {'properties': {'event': {'default': '', 'description': 'The event that occurred. Must be important enough to be formative for the student.', 'title': 'Event', 'type': 'string'}, 'impact': {'default': '', 'description': 'How this event influenced the user.', 'title': 'Impact', 'type': 'string'}}, 'type': 'object'}}, 'status': 'active', 'target_type': 'user'}\n",
      "{'id': 'dcd17aa1-2541-4b3c-bd18-9998dda3480d', 'type': 'thread_summary', 'custom_instructions': None, 'schema': {'name': 'ConversationSummary', 'description': 'Summary of a conversation.', 'parameters': {'properties': {'title': {'description': 'Distinct for the conversation.', 'title': 'Title', 'type': 'string'}, 'summary': {'description': 'High level summary of the interactions.', 'title': 'Summary', 'type': 'string'}, 'topic': {'description': 'Tags for topics discussed in this conversation.', 'items': {'type': 'string'}, 'title': 'Topic', 'type': 'array'}}, 'required': ['title', 'summary', 'topic'], 'type': 'object'}}, 'status': 'active', 'target_type': 'thread'}\n",
      "{'id': '1cc9fdfb-3367-4d75-a355-a4a08d063953', 'type': 'user_state', 'custom_instructions': None, 'schema': {'name': 'UserProfile', 'description': \"A user's profile.\", 'parameters': {'properties': {'preferred_name': {'default': None, 'description': \"The user's name.\", 'title': 'Preferred Name', 'type': 'string'}, 'summary': {'default': '', 'description': 'A quick summary of how the user would describe themselves.', 'title': 'Summary', 'type': 'string'}, 'interests': {'description': 'Short (two to three word) descriptions of areas of particular interest for the user. This can be a concept, activity, or idea. Favor broad interests over specific ones.', 'items': {'type': 'string'}, 'title': 'Interests', 'type': 'array'}, 'other_info': {'description': '', 'items': {'type': 'string'}, 'title': 'Other Info', 'type': 'array'}}, 'type': 'object'}}, 'status': 'active', 'target_type': 'user'}\n"
     ]
    }
   ],
   "source": [
    "functions = ltm_class.client.list_memory_functions()\n",
    "for function in functions:\n",
    "    print(function)"
   ]
  },
  {
   "cell_type": "code",
   "execution_count": null,
   "metadata": {},
   "outputs": [],
   "source": [
    "ltm_class.belief_function[\"id\"]"
   ]
  },
  {
   "cell_type": "code",
   "execution_count": null,
   "metadata": {},
   "outputs": [],
   "source": [
    "ltm_class.client.list_threads()"
   ]
  },
  {
   "cell_type": "code",
   "execution_count": 7,
   "metadata": {},
   "outputs": [
    {
     "data": {
      "text/plain": [
       "{'memory_function_id': 'dcd17aa1-2541-4b3c-bd18-9998dda3480d',\n",
       " 'memory_function_name': 'ConversationSummary',\n",
       " 'memory_function_type': 'thread_summary',\n",
       " 'target': '/threads/81cdd923-0a20-4e87-b4e9-63d036383651',\n",
       " 'output': {'title': \"August's Request for Assistance\",\n",
       "  'topic': ['education', 'math difficulty', 'technical explanations'],\n",
       "  'summary': 'August, a computer science student from the Technical University of Denmark, introduces himself and mentions he is from Jutland. He expresses a need for technical concepts to be explained in words rather than formulas, as he does not understand math.'}}"
      ]
     },
     "execution_count": 7,
     "metadata": {},
     "output_type": "execute_result"
    }
   ],
   "source": [
    "ltm_class.client.list_thread_memory(thread_id=\"81cdd923-0a20-4e87-b4e9-63d036383651\")[0]"
   ]
  },
  {
   "cell_type": "code",
   "execution_count": 2,
   "metadata": {},
   "outputs": [
    {
     "name": "stdout",
     "output_type": "stream",
     "text": [
      "No memories for thread id 61b4a7d2-7585-453c-9679-9f6d7ac6be7a\n",
      "No memories for thread id b0f31285-a7fe-44f1-af0d-d4e6def0353c\n",
      "No memories for thread id 695877b0-798c-4fa1-905a-4075d4c90236\n",
      "No memories for thread id a8c0d86a-4ac4-466d-a2f8-b3f7663775cf\n",
      "Thread id 5727f660-e7d2-46ad-8da0-a595279cb458 has the following summary: {'title': 'Introduction and Assistance Request', 'topic': ['education', 'computer science', 'learning preferences'], 'summary': 'August, a computer science student from the Technical University of Denmark, introduces themselves and mentions they come from Jutland. They express a need for explanations in technical concepts using words instead of formulas, as they do not understand math.'}\n",
      "Thread id 139f9df0-4459-4f19-90ef-637305a8a9f3 has the following summary: {'title': 'Height Inquiry for Mount Everest', 'topic': ['Geography', 'Mountains'], 'summary': 'The user asked for the height of Mount Everest, and the AI responded that it would find out.'}\n",
      "No memories for thread id d9206843-2549-4d7e-9004-a07117f68aad\n",
      "No memories for thread id e125e287-3e04-414c-b7ae-624c488ad7d5\n",
      "Thread id add5d6ab-55ee-4e15-ab71-68e024aa4d82 has the following summary: {'title': 'Explaining Cross-validation with a Metaphor', 'topic': ['Machine Learning', 'Education', 'Cross-validation'], 'summary': 'August, a computer science student at the Technical University of Denmark, requested an explanation of the concept of cross-validation in machine learning, tailored to his preference for text-based explanations and metaphors. The AI provided a detailed metaphor comparing cross-validation to a chef perfecting a recipe by testing it with different groups of friends to ensure it appeals to a variety of palates. This metaphor was used to explain the process of dividing data into folds, training and validating the model, rotating the validation fold, and averaging the results to prevent overfitting and ensure the model performs well on unseen data. August found the explanation clear and thanked the AI for the help.'}\n",
      "No memories for thread id 61143ac4-02b6-492e-8149-7fa42e104f29\n",
      "{'5727f660-e7d2-46ad-8da0-a595279cb458': {'title': 'Introduction and Assistance Request', 'topic': ['education', 'computer science', 'learning preferences'], 'summary': 'August, a computer science student from the Technical University of Denmark, introduces themselves and mentions they come from Jutland. They express a need for explanations in technical concepts using words instead of formulas, as they do not understand math.'}, '139f9df0-4459-4f19-90ef-637305a8a9f3': {'title': 'Height Inquiry for Mount Everest', 'topic': ['Geography', 'Mountains'], 'summary': 'The user asked for the height of Mount Everest, and the AI responded that it would find out.'}, 'add5d6ab-55ee-4e15-ab71-68e024aa4d82': {'title': 'Explaining Cross-validation with a Metaphor', 'topic': ['Machine Learning', 'Education', 'Cross-validation'], 'summary': 'August, a computer science student at the Technical University of Denmark, requested an explanation of the concept of cross-validation in machine learning, tailored to his preference for text-based explanations and metaphors. The AI provided a detailed metaphor comparing cross-validation to a chef perfecting a recipe by testing it with different groups of friends to ensure it appeals to a variety of palates. This metaphor was used to explain the process of dividing data into folds, training and validating the model, rotating the validation fold, and averaging the results to prevent overfitting and ensure the model performs well on unseen data. August found the explanation clear and thanked the AI for the help.'}}\n"
     ]
    }
   ],
   "source": [
    "ltm_class.get_thread_summaries()"
   ]
  },
  {
   "cell_type": "code",
   "execution_count": 4,
   "metadata": {},
   "outputs": [
    {
     "name": "stdout",
     "output_type": "stream",
     "text": [
      "{'user_id': 'b51d2659-0035-44de-bd15-048b70ce4b14', 'memories': [], 'state': None, 'thread_summaries': None}\n"
     ]
    },
    {
     "data": {
      "text/plain": [
       "''"
      ]
     },
     "execution_count": 4,
     "metadata": {},
     "output_type": "execute_result"
    }
   ],
   "source": [
    "ltm_class.get_subject_comprehension_memories(query=\"\")"
   ]
  }
 ],
 "metadata": {
  "kernelspec": {
   "display_name": "src",
   "language": "python",
   "name": "python3"
  },
  "language_info": {
   "codemirror_mode": {
    "name": "ipython",
    "version": 3
   },
   "file_extension": ".py",
   "mimetype": "text/x-python",
   "name": "python",
   "nbconvert_exporter": "python",
   "pygments_lexer": "ipython3",
   "version": "3.10.11"
  }
 },
 "nbformat": 4,
 "nbformat_minor": 2
}
