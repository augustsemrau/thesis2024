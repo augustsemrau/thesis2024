{
 "cells": [
  {
   "cell_type": "markdown",
   "metadata": {},
   "source": [
    "# Notebook for Debugging and Running the PMAS Module"
   ]
  },
  {
   "cell_type": "markdown",
   "metadata": {},
   "source": [
    "## Running the PMAS Module"
   ]
  },
  {
   "cell_type": "code",
   "execution_count": null,
   "metadata": {},
   "outputs": [],
   "source": []
  },
  {
   "cell_type": "markdown",
   "metadata": {},
   "source": [
    "## Debugging the PMAS Module"
   ]
  },
  {
   "cell_type": "code",
   "execution_count": null,
   "metadata": {},
   "outputs": [],
   "source": [
    "from thesis2024.utils import init_llm_langsmith\n",
    "from thesis2024.PMAS import LongTermMemory\n",
    "langsmith_name = \"LangMem TEST 1 \"\n",
    "llm_model = init_llm_langsmith(llm_key=3, temp=0.5, langsmith_name=langsmith_name)\n",
    "\n",
    "# from thesis2024.memory import LongTermMemory\n",
    "ltm_class = LongTermMemory(user_name=\"AugustSemrau2\")\n",
    "ltm_class.client"
   ]
  },
  {
   "cell_type": "code",
   "execution_count": null,
   "metadata": {},
   "outputs": [],
   "source": [
    "ltm_class.past_thread_ids"
   ]
  },
  {
   "cell_type": "code",
   "execution_count": null,
   "metadata": {},
   "outputs": [],
   "source": [
    "ltm_class.get_user_data()"
   ]
  },
  {
   "cell_type": "code",
   "execution_count": null,
   "metadata": {},
   "outputs": [],
   "source": [
    "ltm_class.save_conversation_step(user_query=\"Hello I am August and I study computer science at the Technical University of Denmark. I come from Jutland in Denmark. I do not understand math, and NEED to be explained technical concepts in words, not formulas.\", llm_response=\"Hello August, how can I assist you today?\")"
   ]
  },
  {
   "cell_type": "code",
   "execution_count": null,
   "metadata": {},
   "outputs": [],
   "source": [
    "ltm_class.save_conversation_step(user_query=\"What is the height of Mount Everest?.\", llm_response=\"I will figure out.\")"
   ]
  },
  {
   "cell_type": "code",
   "execution_count": null,
   "metadata": {},
   "outputs": [],
   "source": [
    "memories = ltm_class.get_user_semantic_memories(query=\"What university does the user attend?\")\n",
    "memories\n",
    "print(\"These are the memories:\\n\",memories)"
   ]
  },
  {
   "cell_type": "code",
   "execution_count": null,
   "metadata": {},
   "outputs": [],
   "source": [
    "memories = ltm_class.get_user_append_memories(query=\"What university does the user attend?\")\n",
    "memories\n",
    "print(\"These are the memories:\\n\",memories)"
   ]
  },
  {
   "cell_type": "code",
   "execution_count": null,
   "metadata": {},
   "outputs": [],
   "source": [
    "functions = ltm_class.client.list_memory_functions()\n",
    "for function in functions:\n",
    "    print(function)"
   ]
  },
  {
   "cell_type": "code",
   "execution_count": null,
   "metadata": {},
   "outputs": [],
   "source": [
    "ltm_class.belief_function[\"id\"]"
   ]
  },
  {
   "cell_type": "code",
   "execution_count": null,
   "metadata": {},
   "outputs": [],
   "source": [
    "ltm_class.client.list_threads()"
   ]
  },
  {
   "cell_type": "code",
   "execution_count": null,
   "metadata": {},
   "outputs": [],
   "source": [
    "ltm_class.client.list_thread_memory(thread_id=\"81cdd923-0a20-4e87-b4e9-63d036383651\")[0]"
   ]
  },
  {
   "cell_type": "code",
   "execution_count": null,
   "metadata": {},
   "outputs": [],
   "source": [
    "ltm_class.get_thread_summaries()"
   ]
  }
 ],
 "metadata": {
  "kernelspec": {
   "display_name": "src",
   "language": "python",
   "name": "python3"
  },
  "language_info": {
   "name": "python",
   "version": "3.10.11"
  }
 },
 "nbformat": 4,
 "nbformat_minor": 2
}
